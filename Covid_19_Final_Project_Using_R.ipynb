{
 "cells": [
  {
   "cell_type": "code",
   "execution_count": 1,
   "metadata": {
    "scrolled": true
   },
   "outputs": [
    {
     "name": "stderr",
     "output_type": "stream",
     "text": [
      "Loading required package: carData\n",
      "Registered S3 methods overwritten by 'ggplot2':\n",
      "  method         from \n",
      "  [.quosures     rlang\n",
      "  c.quosures     rlang\n",
      "  print.quosures rlang\n"
     ]
    }
   ],
   "source": [
    "library(car)  # Package with Special functions for linear regression\n",
    "library(lattice)  # Graphics Package\n",
    "library(ggplot2) # Graphical Package"
   ]
  },
  {
   "cell_type": "code",
   "execution_count": 10,
   "metadata": {},
   "outputs": [],
   "source": [
    "# Create a dataframe \n",
    "death_us <- read.csv('C:\\\\Users\\\\pritam\\\\Desktop\\\\us_deaths.csv')\n",
    "confirmed_us<-read.csv('C:\\\\Users\\\\pritam\\\\Desktop\\\\us_confirmed.csv')"
   ]
  },
  {
   "cell_type": "code",
   "execution_count": 11,
   "metadata": {},
   "outputs": [
    {
     "name": "stdout",
     "output_type": "stream",
     "text": [
      "'data.frame':\t570675 obs. of  14 variables:\n",
      " $ UID           : int  16 16 16 16 16 16 16 16 16 16 ...\n",
      " $ iso2          : Factor w/ 6 levels \"AS\",\"GU\",\"MP\",..: 1 1 1 1 1 1 1 1 1 1 ...\n",
      " $ iso3          : Factor w/ 6 levels \"ASM\",\"GUM\",\"MNP\",..: 1 1 1 1 1 1 1 1 1 1 ...\n",
      " $ code3         : int  16 16 16 16 16 16 16 16 16 16 ...\n",
      " $ FIPS          : num  60 60 60 60 60 60 60 60 60 60 ...\n",
      " $ Admin2        : Factor w/ 1902 levels \"\",\"Abbeville\",..: 1 1 1 1 1 1 1 1 1 1 ...\n",
      " $ Lat           : num  -14.3 -14.3 -14.3 -14.3 -14.3 ...\n",
      " $ Combined_Key  : Factor w/ 3261 levels \"Abbeville, South Carolina, US\",..: 57 57 57 57 57 57 57 57 57 57 ...\n",
      " $ Population    : int  55641 55641 55641 55641 55641 55641 55641 55641 55641 55641 ...\n",
      " $ Date          : Factor w/ 175 levels \"2020-01-22\",\"2020-01-23\",..: 1 2 3 4 5 6 7 8 9 10 ...\n",
      " $ Case          : int  0 0 0 0 0 0 0 0 0 0 ...\n",
      " $ Long          : num  -170 -170 -170 -170 -170 ...\n",
      " $ Country.Region: Factor w/ 1 level \"US\": 1 1 1 1 1 1 1 1 1 1 ...\n",
      " $ Province.State: Factor w/ 58 levels \"Alabama\",\"Alaska\",..: 3 3 3 3 3 3 3 3 3 3 ...\n"
     ]
    }
   ],
   "source": [
    "# checking structure of first data\n",
    "str(death_us)"
   ]
  },
  {
   "cell_type": "code",
   "execution_count": null,
   "metadata": {},
   "outputs": [],
   "source": [
    "# Here i have 570675 rows and 14 columns"
   ]
  },
  {
   "cell_type": "code",
   "execution_count": 12,
   "metadata": {},
   "outputs": [
    {
     "name": "stdout",
     "output_type": "stream",
     "text": [
      "'data.frame':\t570675 obs. of  13 variables:\n",
      " $ UID           : int  16 16 16 16 16 16 16 16 16 16 ...\n",
      " $ iso2          : Factor w/ 6 levels \"AS\",\"GU\",\"MP\",..: 1 1 1 1 1 1 1 1 1 1 ...\n",
      " $ iso3          : Factor w/ 6 levels \"ASM\",\"GUM\",\"MNP\",..: 1 1 1 1 1 1 1 1 1 1 ...\n",
      " $ code3         : int  16 16 16 16 16 16 16 16 16 16 ...\n",
      " $ FIPS          : num  60 60 60 60 60 60 60 60 60 60 ...\n",
      " $ Admin2        : Factor w/ 1902 levels \"\",\"Abbeville\",..: 1 1 1 1 1 1 1 1 1 1 ...\n",
      " $ Lat           : num  -14.3 -14.3 -14.3 -14.3 -14.3 ...\n",
      " $ Combined_Key  : Factor w/ 3261 levels \"Abbeville, South Carolina, US\",..: 57 57 57 57 57 57 57 57 57 57 ...\n",
      " $ Date          : Factor w/ 175 levels \"2020-01-22\",\"2020-01-23\",..: 1 2 3 4 5 6 7 8 9 10 ...\n",
      " $ Case          : int  0 0 0 0 0 0 0 0 0 0 ...\n",
      " $ Long          : num  -170 -170 -170 -170 -170 ...\n",
      " $ Country.Region: Factor w/ 1 level \"US\": 1 1 1 1 1 1 1 1 1 1 ...\n",
      " $ Province.State: Factor w/ 58 levels \"Alabama\",\"Alaska\",..: 3 3 3 3 3 3 3 3 3 3 ...\n"
     ]
    }
   ],
   "source": [
    "# checking structure of the second data\n",
    "str(confirmed_us)"
   ]
  },
  {
   "cell_type": "code",
   "execution_count": null,
   "metadata": {},
   "outputs": [],
   "source": [
    "# This is my another data based on the confirmed cases where it has 570675 rows and 13 columns."
   ]
  },
  {
   "cell_type": "code",
   "execution_count": 13,
   "metadata": {},
   "outputs": [
    {
     "data": {
      "text/html": [
       "<table>\n",
       "<thead><tr><th scope=col>UID</th><th scope=col>iso2</th><th scope=col>iso3</th><th scope=col>code3</th><th scope=col>FIPS</th><th scope=col>Admin2</th><th scope=col>Lat</th><th scope=col>Combined_Key</th><th scope=col>Population</th><th scope=col>Date</th><th scope=col>Case</th><th scope=col>Long</th><th scope=col>Country.Region</th><th scope=col>Province.State</th></tr></thead>\n",
       "<tbody>\n",
       "\t<tr><td>16                </td><td>AS                </td><td>ASM               </td><td>16                </td><td>60                </td><td>                  </td><td>-14.271           </td><td>American Samoa, US</td><td>55641             </td><td>2020-01-22        </td><td>0                 </td><td>-170.132          </td><td>US                </td><td>American Samoa    </td></tr>\n",
       "\t<tr><td>16                </td><td>AS                </td><td>ASM               </td><td>16                </td><td>60                </td><td>                  </td><td>-14.271           </td><td>American Samoa, US</td><td>55641             </td><td>2020-01-23        </td><td>0                 </td><td>-170.132          </td><td>US                </td><td>American Samoa    </td></tr>\n",
       "\t<tr><td>16                </td><td>AS                </td><td>ASM               </td><td>16                </td><td>60                </td><td>                  </td><td>-14.271           </td><td>American Samoa, US</td><td>55641             </td><td>2020-01-24        </td><td>0                 </td><td>-170.132          </td><td>US                </td><td>American Samoa    </td></tr>\n",
       "\t<tr><td>16                </td><td>AS                </td><td>ASM               </td><td>16                </td><td>60                </td><td>                  </td><td>-14.271           </td><td>American Samoa, US</td><td>55641             </td><td>2020-01-25        </td><td>0                 </td><td>-170.132          </td><td>US                </td><td>American Samoa    </td></tr>\n",
       "\t<tr><td>16                </td><td>AS                </td><td>ASM               </td><td>16                </td><td>60                </td><td>                  </td><td>-14.271           </td><td>American Samoa, US</td><td>55641             </td><td>2020-01-26        </td><td>0                 </td><td>-170.132          </td><td>US                </td><td>American Samoa    </td></tr>\n",
       "</tbody>\n",
       "</table>\n"
      ],
      "text/latex": [
       "\\begin{tabular}{r|llllllllllllll}\n",
       " UID & iso2 & iso3 & code3 & FIPS & Admin2 & Lat & Combined\\_Key & Population & Date & Case & Long & Country.Region & Province.State\\\\\n",
       "\\hline\n",
       "\t 16                 & AS                 & ASM                & 16                 & 60                 &                    & -14.271            & American Samoa, US & 55641              & 2020-01-22         & 0                  & -170.132           & US                 & American Samoa    \\\\\n",
       "\t 16                 & AS                 & ASM                & 16                 & 60                 &                    & -14.271            & American Samoa, US & 55641              & 2020-01-23         & 0                  & -170.132           & US                 & American Samoa    \\\\\n",
       "\t 16                 & AS                 & ASM                & 16                 & 60                 &                    & -14.271            & American Samoa, US & 55641              & 2020-01-24         & 0                  & -170.132           & US                 & American Samoa    \\\\\n",
       "\t 16                 & AS                 & ASM                & 16                 & 60                 &                    & -14.271            & American Samoa, US & 55641              & 2020-01-25         & 0                  & -170.132           & US                 & American Samoa    \\\\\n",
       "\t 16                 & AS                 & ASM                & 16                 & 60                 &                    & -14.271            & American Samoa, US & 55641              & 2020-01-26         & 0                  & -170.132           & US                 & American Samoa    \\\\\n",
       "\\end{tabular}\n"
      ],
      "text/markdown": [
       "\n",
       "| UID | iso2 | iso3 | code3 | FIPS | Admin2 | Lat | Combined_Key | Population | Date | Case | Long | Country.Region | Province.State |\n",
       "|---|---|---|---|---|---|---|---|---|---|---|---|---|---|\n",
       "| 16                 | AS                 | ASM                | 16                 | 60                 |                    | -14.271            | American Samoa, US | 55641              | 2020-01-22         | 0                  | -170.132           | US                 | American Samoa     |\n",
       "| 16                 | AS                 | ASM                | 16                 | 60                 |                    | -14.271            | American Samoa, US | 55641              | 2020-01-23         | 0                  | -170.132           | US                 | American Samoa     |\n",
       "| 16                 | AS                 | ASM                | 16                 | 60                 |                    | -14.271            | American Samoa, US | 55641              | 2020-01-24         | 0                  | -170.132           | US                 | American Samoa     |\n",
       "| 16                 | AS                 | ASM                | 16                 | 60                 |                    | -14.271            | American Samoa, US | 55641              | 2020-01-25         | 0                  | -170.132           | US                 | American Samoa     |\n",
       "| 16                 | AS                 | ASM                | 16                 | 60                 |                    | -14.271            | American Samoa, US | 55641              | 2020-01-26         | 0                  | -170.132           | US                 | American Samoa     |\n",
       "\n"
      ],
      "text/plain": [
       "  UID iso2 iso3 code3 FIPS Admin2 Lat     Combined_Key       Population\n",
       "1 16  AS   ASM  16    60          -14.271 American Samoa, US 55641     \n",
       "2 16  AS   ASM  16    60          -14.271 American Samoa, US 55641     \n",
       "3 16  AS   ASM  16    60          -14.271 American Samoa, US 55641     \n",
       "4 16  AS   ASM  16    60          -14.271 American Samoa, US 55641     \n",
       "5 16  AS   ASM  16    60          -14.271 American Samoa, US 55641     \n",
       "  Date       Case Long     Country.Region Province.State\n",
       "1 2020-01-22 0    -170.132 US             American Samoa\n",
       "2 2020-01-23 0    -170.132 US             American Samoa\n",
       "3 2020-01-24 0    -170.132 US             American Samoa\n",
       "4 2020-01-25 0    -170.132 US             American Samoa\n",
       "5 2020-01-26 0    -170.132 US             American Samoa"
      ]
     },
     "metadata": {},
     "output_type": "display_data"
    }
   ],
   "source": [
    "# First 5 rows of the data frame\n",
    "head(death_us, 5)"
   ]
  },
  {
   "cell_type": "code",
   "execution_count": 14,
   "metadata": {},
   "outputs": [
    {
     "data": {
      "text/html": [
       "<table>\n",
       "<thead><tr><th scope=col>UID</th><th scope=col>iso2</th><th scope=col>iso3</th><th scope=col>code3</th><th scope=col>FIPS</th><th scope=col>Admin2</th><th scope=col>Lat</th><th scope=col>Combined_Key</th><th scope=col>Date</th><th scope=col>Case</th><th scope=col>Long</th><th scope=col>Country.Region</th><th scope=col>Province.State</th></tr></thead>\n",
       "<tbody>\n",
       "\t<tr><td>16                </td><td>AS                </td><td>ASM               </td><td>16                </td><td>60                </td><td>                  </td><td>-14.271           </td><td>American Samoa, US</td><td>2020-01-22        </td><td>0                 </td><td>-170.132          </td><td>US                </td><td>American Samoa    </td></tr>\n",
       "\t<tr><td>16                </td><td>AS                </td><td>ASM               </td><td>16                </td><td>60                </td><td>                  </td><td>-14.271           </td><td>American Samoa, US</td><td>2020-01-23        </td><td>0                 </td><td>-170.132          </td><td>US                </td><td>American Samoa    </td></tr>\n",
       "\t<tr><td>16                </td><td>AS                </td><td>ASM               </td><td>16                </td><td>60                </td><td>                  </td><td>-14.271           </td><td>American Samoa, US</td><td>2020-01-24        </td><td>0                 </td><td>-170.132          </td><td>US                </td><td>American Samoa    </td></tr>\n",
       "\t<tr><td>16                </td><td>AS                </td><td>ASM               </td><td>16                </td><td>60                </td><td>                  </td><td>-14.271           </td><td>American Samoa, US</td><td>2020-01-25        </td><td>0                 </td><td>-170.132          </td><td>US                </td><td>American Samoa    </td></tr>\n",
       "\t<tr><td>16                </td><td>AS                </td><td>ASM               </td><td>16                </td><td>60                </td><td>                  </td><td>-14.271           </td><td>American Samoa, US</td><td>2020-01-26        </td><td>0                 </td><td>-170.132          </td><td>US                </td><td>American Samoa    </td></tr>\n",
       "</tbody>\n",
       "</table>\n"
      ],
      "text/latex": [
       "\\begin{tabular}{r|lllllllllllll}\n",
       " UID & iso2 & iso3 & code3 & FIPS & Admin2 & Lat & Combined\\_Key & Date & Case & Long & Country.Region & Province.State\\\\\n",
       "\\hline\n",
       "\t 16                 & AS                 & ASM                & 16                 & 60                 &                    & -14.271            & American Samoa, US & 2020-01-22         & 0                  & -170.132           & US                 & American Samoa    \\\\\n",
       "\t 16                 & AS                 & ASM                & 16                 & 60                 &                    & -14.271            & American Samoa, US & 2020-01-23         & 0                  & -170.132           & US                 & American Samoa    \\\\\n",
       "\t 16                 & AS                 & ASM                & 16                 & 60                 &                    & -14.271            & American Samoa, US & 2020-01-24         & 0                  & -170.132           & US                 & American Samoa    \\\\\n",
       "\t 16                 & AS                 & ASM                & 16                 & 60                 &                    & -14.271            & American Samoa, US & 2020-01-25         & 0                  & -170.132           & US                 & American Samoa    \\\\\n",
       "\t 16                 & AS                 & ASM                & 16                 & 60                 &                    & -14.271            & American Samoa, US & 2020-01-26         & 0                  & -170.132           & US                 & American Samoa    \\\\\n",
       "\\end{tabular}\n"
      ],
      "text/markdown": [
       "\n",
       "| UID | iso2 | iso3 | code3 | FIPS | Admin2 | Lat | Combined_Key | Date | Case | Long | Country.Region | Province.State |\n",
       "|---|---|---|---|---|---|---|---|---|---|---|---|---|\n",
       "| 16                 | AS                 | ASM                | 16                 | 60                 |                    | -14.271            | American Samoa, US | 2020-01-22         | 0                  | -170.132           | US                 | American Samoa     |\n",
       "| 16                 | AS                 | ASM                | 16                 | 60                 |                    | -14.271            | American Samoa, US | 2020-01-23         | 0                  | -170.132           | US                 | American Samoa     |\n",
       "| 16                 | AS                 | ASM                | 16                 | 60                 |                    | -14.271            | American Samoa, US | 2020-01-24         | 0                  | -170.132           | US                 | American Samoa     |\n",
       "| 16                 | AS                 | ASM                | 16                 | 60                 |                    | -14.271            | American Samoa, US | 2020-01-25         | 0                  | -170.132           | US                 | American Samoa     |\n",
       "| 16                 | AS                 | ASM                | 16                 | 60                 |                    | -14.271            | American Samoa, US | 2020-01-26         | 0                  | -170.132           | US                 | American Samoa     |\n",
       "\n"
      ],
      "text/plain": [
       "  UID iso2 iso3 code3 FIPS Admin2 Lat     Combined_Key       Date       Case\n",
       "1 16  AS   ASM  16    60          -14.271 American Samoa, US 2020-01-22 0   \n",
       "2 16  AS   ASM  16    60          -14.271 American Samoa, US 2020-01-23 0   \n",
       "3 16  AS   ASM  16    60          -14.271 American Samoa, US 2020-01-24 0   \n",
       "4 16  AS   ASM  16    60          -14.271 American Samoa, US 2020-01-25 0   \n",
       "5 16  AS   ASM  16    60          -14.271 American Samoa, US 2020-01-26 0   \n",
       "  Long     Country.Region Province.State\n",
       "1 -170.132 US             American Samoa\n",
       "2 -170.132 US             American Samoa\n",
       "3 -170.132 US             American Samoa\n",
       "4 -170.132 US             American Samoa\n",
       "5 -170.132 US             American Samoa"
      ]
     },
     "metadata": {},
     "output_type": "display_data"
    }
   ],
   "source": [
    "# first 5 data of the dataframe\n",
    "head(confirmed_us,5)"
   ]
  },
  {
   "cell_type": "code",
   "execution_count": 20,
   "metadata": {},
   "outputs": [
    {
     "data": {
      "text/plain": [
       "      UID           iso2         iso3            code3            FIPS      \n",
       " Min.   :      16   AS:   175   ASM:   175   Min.   : 16.0   Min.   :   60  \n",
       " 1st Qu.:84019043   GU:   175   GUM:   175   1st Qu.:840.0   1st Qu.:19037  \n",
       " Median :84030055   MP:   175   MNP:   175   Median :840.0   Median :30045  \n",
       " Mean   :83903413   PR:   175   PRI:   175   Mean   :839.4   Mean   :32091  \n",
       " 3rd Qu.:84047025   US:569800   USA:569800   3rd Qu.:840.0   3rd Qu.:47011  \n",
       " Max.   :84099999   VI:   175   VIR:   175   Max.   :850.0   Max.   :99999  \n",
       "                                                             NA's   :1750   \n",
       "        Admin2            Lat                                Combined_Key   \n",
       " Unassigned:  8925   Min.   :-14.27   Abbeville, South Carolina, US:   175  \n",
       " Washington:  5425   1st Qu.: 34.24   Acadia, Louisiana, US        :   175  \n",
       " Jefferson :  4550   Median : 38.15   Accomack, Virginia, US       :   175  \n",
       " Franklin  :  4375   Mean   : 37.17   Ada, Idaho, US               :   175  \n",
       " Jackson   :  4200   3rd Qu.: 41.68   Adair, Iowa, US              :   175  \n",
       " Lincoln   :  4200   Max.   : 69.31   Adair, Kentucky, US          :   175  \n",
       " (Other)   :539000                    (Other)                      :569625  \n",
       "   Population               Date             Case               Long        \n",
       " Min.   :       0   2020-01-22:  3261   Min.   :    0.00   Min.   :-174.16  \n",
       " 1st Qu.:    9754   2020-01-23:  3261   1st Qu.:    0.00   1st Qu.: -98.07  \n",
       " Median :   24558   2020-01-24:  3261   Median :    0.00   Median : -89.83  \n",
       " Mean   :  103880   2020-01-25:  3261   Mean   :   16.05   Mean   : -89.18  \n",
       " 3rd Qu.:   65769   2020-01-26:  3261   3rd Qu.:    1.00   3rd Qu.: -82.79  \n",
       " Max.   :10039107   2020-01-27:  3261   Max.   :23336.00   Max.   : 145.67  \n",
       "                    (Other)   :551109                                       \n",
       " Country.Region  Province.State  \n",
       " US:570675      Texas   : 44800  \n",
       "                Georgia : 28175  \n",
       "                Virginia: 23625  \n",
       "                Kentucky: 21350  \n",
       "                Missouri: 20650  \n",
       "                Kansas  : 18725  \n",
       "                (Other) :413350  "
      ]
     },
     "metadata": {},
     "output_type": "display_data"
    }
   ],
   "source": [
    "# summary of the dataset\n",
    "summary(death_us)"
   ]
  },
  {
   "cell_type": "code",
   "execution_count": 21,
   "metadata": {},
   "outputs": [
    {
     "data": {
      "text/plain": [
       "      UID           iso2         iso3            code3            FIPS      \n",
       " Min.   :      16   AS:   175   ASM:   175   Min.   : 16.0   Min.   :   60  \n",
       " 1st Qu.:84019043   GU:   175   GUM:   175   1st Qu.:840.0   1st Qu.:19037  \n",
       " Median :84030055   MP:   175   MNP:   175   Median :840.0   Median :30045  \n",
       " Mean   :83903413   PR:   175   PRI:   175   Mean   :839.4   Mean   :32091  \n",
       " 3rd Qu.:84047025   US:569800   USA:569800   3rd Qu.:840.0   3rd Qu.:47011  \n",
       " Max.   :84099999   VI:   175   VIR:   175   Max.   :850.0   Max.   :99999  \n",
       "                                                             NA's   :1750   \n",
       "        Admin2            Lat                                Combined_Key   \n",
       " Unassigned:  8925   Min.   :-14.27   Abbeville, South Carolina, US:   175  \n",
       " Washington:  5425   1st Qu.: 34.24   Acadia, Louisiana, US        :   175  \n",
       " Jefferson :  4550   Median : 38.15   Accomack, Virginia, US       :   175  \n",
       " Franklin  :  4375   Mean   : 37.17   Ada, Idaho, US               :   175  \n",
       " Jackson   :  4200   3rd Qu.: 41.68   Adair, Iowa, US              :   175  \n",
       " Lincoln   :  4200   Max.   : 69.31   Adair, Kentucky, US          :   175  \n",
       " (Other)   :539000                    (Other)                      :569625  \n",
       "         Date             Case               Long         Country.Region\n",
       " 2020-01-22:  3261   Min.   :     0.0   Min.   :-174.16   US:570675     \n",
       " 2020-01-23:  3261   1st Qu.:     0.0   1st Qu.: -98.07                 \n",
       " 2020-01-24:  3261   Median :     3.0   Median : -89.83                 \n",
       " 2020-01-25:  3261   Mean   :   304.2   Mean   : -89.18                 \n",
       " 2020-01-26:  3261   3rd Qu.:    48.0   3rd Qu.: -82.79                 \n",
       " 2020-01-27:  3261   Max.   :219616.0   Max.   : 145.67                 \n",
       " (Other)   :551109                                                      \n",
       "  Province.State  \n",
       " Texas   : 44800  \n",
       " Georgia : 28175  \n",
       " Virginia: 23625  \n",
       " Kentucky: 21350  \n",
       " Missouri: 20650  \n",
       " Kansas  : 18725  \n",
       " (Other) :413350  "
      ]
     },
     "metadata": {},
     "output_type": "display_data"
    }
   ],
   "source": [
    "# summary of the confirmed case\n",
    "summary(confirmed_us)"
   ]
  },
  {
   "cell_type": "code",
   "execution_count": 31,
   "metadata": {},
   "outputs": [
    {
     "data": {
      "text/html": [
       "0"
      ],
      "text/latex": [
       "0"
      ],
      "text/markdown": [
       "0"
      ],
      "text/plain": [
       "[1] 0"
      ]
     },
     "metadata": {},
     "output_type": "display_data"
    }
   ],
   "source": [
    "# checking missing values\n",
    "sum(is.na(death_us$Case))"
   ]
  },
  {
   "cell_type": "code",
   "execution_count": 30,
   "metadata": {},
   "outputs": [
    {
     "data": {
      "text/html": [
       "0"
      ],
      "text/latex": [
       "0"
      ],
      "text/markdown": [
       "0"
      ],
      "text/plain": [
       "[1] 0"
      ]
     },
     "metadata": {},
     "output_type": "display_data"
    }
   ],
   "source": [
    "# checking missing values for second dataset\n",
    "sum(is.na(confirmed_us$Case))"
   ]
  },
  {
   "cell_type": "code",
   "execution_count": 32,
   "metadata": {},
   "outputs": [
    {
     "data": {
      "text/html": [
       "0"
      ],
      "text/latex": [
       "0"
      ],
      "text/markdown": [
       "0"
      ],
      "text/plain": [
       "[1] 0"
      ]
     },
     "metadata": {},
     "output_type": "display_data"
    }
   ],
   "source": [
    "# checking another columns \n",
    "sum(is.na(confirmed_us$Date))"
   ]
  },
  {
   "cell_type": "code",
   "execution_count": 33,
   "metadata": {},
   "outputs": [
    {
     "data": {
      "text/html": [
       "0"
      ],
      "text/latex": [
       "0"
      ],
      "text/markdown": [
       "0"
      ],
      "text/plain": [
       "[1] 0"
      ]
     },
     "metadata": {},
     "output_type": "display_data"
    }
   ],
   "source": [
    "# checking the missing data\n",
    "sum(is.na(death_us$Date))"
   ]
  },
  {
   "cell_type": "code",
   "execution_count": null,
   "metadata": {},
   "outputs": [],
   "source": [
    "# Hence, almost all my required data are in good shape.\n",
    "# So i just completed the data analysis using R and i will perform modeling and visualization using python."
   ]
  }
 ],
 "metadata": {
  "kernelspec": {
   "display_name": "R",
   "language": "R",
   "name": "ir"
  },
  "language_info": {
   "codemirror_mode": "r",
   "file_extension": ".r",
   "mimetype": "text/x-r-source",
   "name": "R",
   "pygments_lexer": "r",
   "version": "3.6.1"
  }
 },
 "nbformat": 4,
 "nbformat_minor": 2
}
